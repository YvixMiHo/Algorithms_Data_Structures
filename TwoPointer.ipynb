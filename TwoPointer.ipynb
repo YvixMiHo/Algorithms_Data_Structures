{
  "nbformat": 4,
  "nbformat_minor": 0,
  "metadata": {
    "colab": {
      "name": "TwoPointer.ipynb",
      "provenance": [],
      "collapsed_sections": [],
      "authorship_tag": "ABX9TyMNdHm4Ns5lN7jGsS3ZPrh/",
      "include_colab_link": true
    },
    "kernelspec": {
      "name": "python3",
      "display_name": "Python 3"
    },
    "language_info": {
      "name": "python"
    }
  },
  "cells": [
    {
      "cell_type": "markdown",
      "metadata": {
        "id": "view-in-github",
        "colab_type": "text"
      },
      "source": [
        "<a href=\"https://colab.research.google.com/github/YvixMiHo/Algorithms_Data_Structures/blob/main/TwoPointer.ipynb\" target=\"_parent\"><img src=\"https://colab.research.google.com/assets/colab-badge.svg\" alt=\"Open In Colab\"/></a>"
      ]
    },
    {
      "cell_type": "markdown",
      "source": [
        "##Two pointers\n",
        "\n",
        "the goal is to iterate through an array to find a goal value\n",
        "\n",
        "nlogn\n",
        "sort and scan\n",
        "if array is sorted then use binary search. scan through each element."
      ],
      "metadata": {
        "id": "gDDUJbbiX6Oz"
      }
    },
    {
      "cell_type": "code",
      "source": [
        "class Node:\n",
        "  def __init__(self,data):\n",
        "    self.next = None\n",
        "    self.data = data\n",
        "  def __str__(self):\n",
        "    str(self.data) "
      ],
      "metadata": {
        "id": "KN_tnJbE_t2n"
      },
      "execution_count": null,
      "outputs": []
    },
    {
      "cell_type": "code",
      "source": [
        "def binary_search(array,target):\n",
        "  lo  = 0\n",
        "  hi  = len(array)-1\n",
        "\n",
        "  while len(array)>0:\n",
        "    \n",
        "    mid = round((lo+hi)/2)\n",
        "\n",
        "    if array[mid] == target:\n",
        "      return mid, array[mid] \n",
        "    \n",
        "    elif array[mid] < target:\n",
        "      lo = mid\n",
        "    \n",
        "    elif array[mid] > target:\n",
        "      hi = mid\n"
      ],
      "metadata": {
        "id": "u6d0whVFZTSE"
      },
      "execution_count": null,
      "outputs": []
    },
    {
      "cell_type": "code",
      "source": [
        "def twoppointer(array,target):\n",
        "  lo = 0\n",
        "  hi = len(array)-1\n",
        "\n",
        "  while lo<hi:\n",
        "    sum = array[lo] + array[hi] \n",
        "    print(sum)\n",
        "    if sum == target:\n",
        "      return [lo+1,hi+1]\n",
        "    \n",
        "    elif sum < target:  \n",
        "      lo+=1\n",
        "    \n",
        "    else:\n",
        "      hi-=1"
      ],
      "metadata": {
        "id": "Rt_-uPY5nWOH"
      },
      "execution_count": null,
      "outputs": []
    },
    {
      "cell_type": "code",
      "source": [
        "def twopointer_linkedList(head):\n",
        "  slow = head\n",
        "  fast = head\n",
        "  while slow is not None and fast is not None:\n",
        "\n",
        "    slow = slow.next\n",
        "    fast = fast.next.next\n",
        "\n",
        "    if slow == fast:\n",
        "      return slow.data,fast.data\n",
        "      break\n"
      ],
      "metadata": {
        "id": "Alx444OK010G"
      },
      "execution_count": null,
      "outputs": []
    },
    {
      "cell_type": "code",
      "source": [
        "a = Node(1)\n",
        "b = Node(2)\n",
        "c = Node(3)\n",
        "d = Node(4)\n",
        "\n",
        "\n",
        "a.next = b\n",
        "b.next = c\n",
        "c.next = d\n",
        "d.next = c"
      ],
      "metadata": {
        "id": "y81Y1-6t_rsG"
      },
      "execution_count": null,
      "outputs": []
    },
    {
      "cell_type": "markdown",
      "source": [
        "3,2,4\n",
        "\n",
        "0\n",
        "2\n",
        "\n",
        "w 0<2\n",
        "\n",
        "    \n",
        "     4     2    4\n",
        "if a[2]+a[1] == 6\n",
        "    return [adwsa]\n",
        "eli a[1]+a[1] < 6\n",
        "  lo = lo+1\n",
        "       2\n",
        "el \n",
        "  hi = hi-1\n",
        "        2-1 = 1\n",
        "\n",
        "\n",
        "\n",
        "\n",
        "\n",
        "\n"
      ],
      "metadata": {
        "id": "So_pGhKj8IFk"
      }
    },
    {
      "cell_type": "code",
      "source": [
        "array1 = [-1,-2,-3,-4,-5]\n",
        "len(array1)\n",
        "print(array1)"
      ],
      "metadata": {
        "colab": {
          "base_uri": "https://localhost:8080/"
        },
        "id": "4-hZkGOmZHmT",
        "outputId": "84db4794-5363-48a6-c265-7228d4cf8e0d"
      },
      "execution_count": null,
      "outputs": [
        {
          "output_type": "stream",
          "name": "stdout",
          "text": [
            "[-1, -2, -3, -4, -5]\n"
          ]
        }
      ]
    },
    {
      "cell_type": "code",
      "source": [
        "len(array1)"
      ],
      "metadata": {
        "colab": {
          "base_uri": "https://localhost:8080/"
        },
        "id": "QUVaEnlQZSYf",
        "outputId": "fbec32d5-b25a-482e-c787-89692ca4caea"
      },
      "execution_count": null,
      "outputs": [
        {
          "output_type": "execute_result",
          "data": {
            "text/plain": [
              "8"
            ]
          },
          "metadata": {},
          "execution_count": 32
        }
      ]
    },
    {
      "cell_type": "code",
      "source": [
        "binary_search(array1,5)"
      ],
      "metadata": {
        "colab": {
          "base_uri": "https://localhost:8080/"
        },
        "id": "HRi-VGLQZOi-",
        "outputId": "bddad4ff-db60-449d-cbbe-5ae3c92c3c68"
      },
      "execution_count": null,
      "outputs": [
        {
          "output_type": "execute_result",
          "data": {
            "text/plain": [
              "(0, 5)"
            ]
          },
          "metadata": {},
          "execution_count": 33
        }
      ]
    },
    {
      "cell_type": "code",
      "source": [
        "twoppointer(array1, -8)"
      ],
      "metadata": {
        "colab": {
          "base_uri": "https://localhost:8080/"
        },
        "id": "JrlEOug-oy3m",
        "outputId": "d47dd651-c57b-4565-c1dc-71b0d15f160b"
      },
      "execution_count": null,
      "outputs": [
        {
          "output_type": "stream",
          "name": "stdout",
          "text": [
            "-6\n",
            "-5\n",
            "-4\n",
            "-3\n"
          ]
        }
      ]
    },
    {
      "cell_type": "code",
      "source": [
        "twopointer_linkedList(a)"
      ],
      "metadata": {
        "colab": {
          "base_uri": "https://localhost:8080/"
        },
        "id": "7YS1nhlgAWQx",
        "outputId": "6c618f8e-0510-4ddb-da9f-cfffa8ba3376"
      },
      "execution_count": null,
      "outputs": [
        {
          "output_type": "execute_result",
          "data": {
            "text/plain": [
              "(3, 3)"
            ]
          },
          "metadata": {},
          "execution_count": 35
        }
      ]
    },
    {
      "cell_type": "code",
      "source": [
        "input = [1,8,6,2,5,4,8,3,7]"
      ],
      "metadata": {
        "colab": {
          "base_uri": "https://localhost:8080/"
        },
        "id": "4iCSfR63NN37",
        "outputId": "ede90131-1da9-44ba-e67a-14f82cc73654"
      },
      "execution_count": null,
      "outputs": [
        {
          "output_type": "stream",
          "name": "stdout",
          "text": [
            "7\n"
          ]
        }
      ]
    },
    {
      "cell_type": "markdown",
      "source": [
        "\n",
        "\n",
        "\n",
        "      \n",
        "\n",
        " y: 1 8 6 2 5 4 8 3 7\n",
        "  \n",
        "\n",
        " \n",
        " x: 0 1 2 3 4 5 6 7 8\n",
        "\n",
        "\n",
        "area = (xf - xi) * (min(y(xf), y(xi)))\n"
      ],
      "metadata": {
        "id": "g12vC4JmxNEo"
      }
    },
    {
      "cell_type": "code",
      "source": [
        "def maxArea(array):\n",
        "\n",
        "  xi = 0\n",
        "  xf = len(array)-1\n",
        "\n",
        "\n",
        "\n",
        "  while xi < xf:\n",
        "    \n",
        "    area_max = (xf-xi)*min(array[xf],array[xi])\n",
        "\n",
        "    if product == area_max:\n",
        "      return [array[lo],array[hi]]\n",
        "    \n",
        "    elif product < max:\n",
        "      lo +=1\n",
        "    \n",
        "    else:\n",
        "      hi -=1"
      ],
      "metadata": {
        "id": "VktiKuttNcAw"
      },
      "execution_count": null,
      "outputs": []
    },
    {
      "cell_type": "code",
      "source": [
        "maxheight(input)"
      ],
      "metadata": {
        "id": "LVBDlD15PFyC"
      },
      "execution_count": null,
      "outputs": []
    }
  ]
}