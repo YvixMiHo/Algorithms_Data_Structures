{
  "nbformat": 4,
  "nbformat_minor": 0,
  "metadata": {
    "colab": {
      "name": "SlidingWindow_Application_LongestSubstringW/oRepeatingCharacters.ipynb",
      "provenance": [],
      "collapsed_sections": [],
      "authorship_tag": "ABX9TyMwrXlSSj+rU7CDZqZ3Jgp5",
      "include_colab_link": true
    },
    "kernelspec": {
      "name": "python3",
      "display_name": "Python 3"
    },
    "language_info": {
      "name": "python"
    }
  },
  "cells": [
    {
      "cell_type": "markdown",
      "metadata": {
        "id": "view-in-github",
        "colab_type": "text"
      },
      "source": [
        "<a href=\"https://colab.research.google.com/github/YvixMiHo/Algorithms_Data_Structures/blob/main/SlidingWindow_Application_LongestSubstringW_oRepeatingCharacters.ipynb\" target=\"_parent\"><img src=\"https://colab.research.google.com/assets/colab-badge.svg\" alt=\"Open In Colab\"/></a>"
      ]
    },
    {
      "cell_type": "markdown",
      "source": [
        "Given a string find the length of the longest substring without repeating characters. \n",
        "\n",
        "example: abcabcbb\n",
        "output is 3\n",
        "\n",
        "\n",
        "visual solution, step one scan the list from left to right, a, b, c, a!! found substring of length three. continue a, b, c, b!! found another substring of length three.\n",
        "\n",
        "\n"
      ],
      "metadata": {
        "id": "4R7Y-0AFlz-P"
      }
    },
    {
      "cell_type": "markdown",
      "source": [
        " a b c n c d\n",
        " L\n",
        " R\n",
        "\n",
        "\n",
        "\n",
        "*italicized text*"
      ],
      "metadata": {
        "id": "_SoyUrvV9QUd"
      }
    },
    {
      "cell_type": "code",
      "source": [
        "def timer(argument):\n",
        "  t_inital = time.perf_counter()\n",
        "  argument\n",
        "  t_final = time.perf_counter()\n",
        "  print(f\"time to execute {t_final - t_inital:0.9f} seconds\")\n"
      ],
      "metadata": {
        "id": "_Ykl5R3M2RvL"
      },
      "execution_count": 75,
      "outputs": []
    },
    {
      "cell_type": "code",
      "source": [
        "S = \"abcabcbb\"\n",
        "T = \"abcncd\""
      ],
      "metadata": {
        "id": "mlWpVKFehFx_"
      },
      "execution_count": 76,
      "outputs": []
    },
    {
      "cell_type": "code",
      "source": [
        "import time"
      ],
      "metadata": {
        "id": "fnIDBN6B1U8o"
      },
      "execution_count": 77,
      "outputs": []
    },
    {
      "cell_type": "code",
      "source": [
        "def lenghtofLongestSubstring(word):\n",
        "  char_Set = set()\n",
        "  left_ptr = 0\n",
        "  res = 0\n",
        "\n",
        "  for right_ptr in range(len(word)):\n",
        "    \n",
        "    #first logic to remove character\n",
        "    while word[right_ptr] in char_Set:\n",
        "      char_Set.remove(word[left_ptr])\n",
        "      left_ptr+=1\n",
        "    \n",
        "    # add the character from the word to the set \n",
        "    char_Set.add(word[right_ptr])\n",
        "    res = max(res, right_ptr-left_ptr+1)\n",
        "  \n",
        "  return res\n",
        "\n"
      ],
      "metadata": {
        "id": "qU7rc7kthl5Z"
      },
      "execution_count": 98,
      "outputs": []
    },
    {
      "cell_type": "code",
      "source": [
        "def lenghtofLongestSubstring_v2(string):\n",
        "  char_dict = {}\n",
        "  left_ptr = 0\n",
        "  result = 0\n",
        "\n",
        "  for right_ptr in range(len(string)):\n",
        "    if string[right_ptr] in char_dict:\n",
        "      left_ptr = max(left_ptr,(char_dict[string[right_ptr]]+1))\n",
        "    \n",
        "    result = max(result,right_ptr-left_ptr+1) \n",
        "    char_dict[string[right_ptr]]=right_ptr\n",
        "  return result"
      ],
      "metadata": {
        "id": "-N3KwS-qzYG1"
      },
      "execution_count": 79,
      "outputs": []
    },
    {
      "cell_type": "code",
      "source": [
        "lenghtofLongestSubstring(T)"
      ],
      "metadata": {
        "colab": {
          "base_uri": "https://localhost:8080/"
        },
        "id": "3VxuS0_FwYzI",
        "outputId": "bddb5e06-f347-46dc-dce7-68561bc1f3b8"
      },
      "execution_count": 99,
      "outputs": [
        {
          "output_type": "execute_result",
          "data": {
            "text/plain": [
              "4"
            ]
          },
          "metadata": {},
          "execution_count": 99
        }
      ]
    },
    {
      "cell_type": "code",
      "source": [
        "timer(lenghtofLongestSubstring(S)), timer(lenghtofLongestSubstring_v2(S))"
      ],
      "metadata": {
        "colab": {
          "base_uri": "https://localhost:8080/"
        },
        "id": "CwqzgcHlwx98",
        "outputId": "761a5143-a899-4dcb-a85d-c9fe0940da61"
      },
      "execution_count": 97,
      "outputs": [
        {
          "output_type": "stream",
          "name": "stdout",
          "text": [
            "time to execute 0.000000218 seconds\n",
            "time to execute 0.000000203 seconds\n"
          ]
        },
        {
          "output_type": "execute_result",
          "data": {
            "text/plain": [
              "(None, None)"
            ]
          },
          "metadata": {},
          "execution_count": 97
        }
      ]
    }
  ]
}