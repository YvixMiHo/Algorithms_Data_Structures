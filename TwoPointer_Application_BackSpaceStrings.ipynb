{
  "nbformat": 4,
  "nbformat_minor": 0,
  "metadata": {
    "colab": {
      "name": "TwoPointer_Application_BackSpaceStrings.ipynb",
      "provenance": [],
      "collapsed_sections": [],
      "authorship_tag": "ABX9TyNNVck0kOuQV9+Z5rE3s0Hi",
      "include_colab_link": true
    },
    "kernelspec": {
      "name": "python3",
      "display_name": "Python 3"
    },
    "language_info": {
      "name": "python"
    }
  },
  "cells": [
    {
      "cell_type": "markdown",
      "metadata": {
        "id": "view-in-github",
        "colab_type": "text"
      },
      "source": [
        "<a href=\"https://colab.research.google.com/github/YvixMiHo/Algorithms_Data_Structures/blob/main/TwoPointer_Application_BackSpaceStrings.ipynb\" target=\"_parent\"><img src=\"https://colab.research.google.com/assets/colab-badge.svg\" alt=\"Open In Colab\"/></a>"
      ]
    },
    {
      "cell_type": "markdown",
      "source": [
        "Given two **string** S and T return if they equal when both are type out. Any '#' that appears in the string counts as a backspace\n",
        "\n",
        "S = ab#c, ac\n",
        "T = az#c, ac\n",
        "S == T -> true\n",
        "\n",
        "S = ab#c, ac\n",
        "T = az#g, ag\n",
        "S == T -> false\n",
        "\n",
        "S = ab#c#b#g, ag\n",
        "T = az#g, ag\n",
        "S == T -> false\n",
        "\n",
        "\n",
        "Procedure outline:\n",
        "\n",
        "1. what are we given:\n",
        "  - array\n",
        "2. what are we being asked to solve:\n",
        "  - take two strings, process each string to see if there is a hash within the string. if there is a hash remove the preceding character.\n",
        "\n",
        "\n"
      ],
      "metadata": {
        "id": "4R7Y-0AFlz-P"
      }
    },
    {
      "cell_type": "markdown",
      "source": [
        "Step 1. verify the constraints(Question the assumptions/determine what assumptions are valid):\n",
        "\n",
        "1. empty array would be no rain water\n",
        "2. the far left and far right are not walls\n",
        "\n"
      ],
      "metadata": {
        "id": "hoA2wKGfqecL"
      }
    },
    {
      "cell_type": "code",
      "source": [
        "def backSpaceCompare(s,t):\n",
        "  s,t = remove_backspace(s), remove_backspace(t)\n",
        "  return s == t"
      ],
      "metadata": {
        "id": "b1r1JnUx29O2"
      },
      "execution_count": 1,
      "outputs": []
    },
    {
      "cell_type": "code",
      "source": [
        "def remove_backspace(string):\n",
        "  stack = []\n",
        "\n",
        "  for char in string:\n",
        "    if char != \"#\":\n",
        "      stack.append(char)\n",
        "    else:\n",
        "      if len(stack):\n",
        "        stack.pop()\n",
        "  return \"\".join(stack)\n"
      ],
      "metadata": {
        "id": "iJPEA-UbDIGQ"
      },
      "execution_count": 2,
      "outputs": []
    },
    {
      "cell_type": "code",
      "source": [
        "def backSpaceCompare_v2(s,t):\n",
        "  s_ptr = len(s)-1\n",
        "  t_ptr = len(t)-1\n",
        "\n",
        "  bsp_count_s = 0\n",
        "  bsp_count_t = 0\n",
        "\n",
        "  while s_ptr >= 0 or t_ptr >=0:\n",
        "    while s_ptr >=0 and (s[s_ptr]=='#' or bsp_count_s > 0):\n",
        "      if s[s_ptr] == '#':\n",
        "        bsp_count_s+=1\n",
        "      else:\n",
        "        bsp_count_s-=1\n",
        "      s_ptr-=1\n",
        "    while t_ptr >=0 and (t[t_ptr]=='#' or bsp_count_t > 0):\n",
        "      if t[t_ptr] == '#':\n",
        "        bsp_count_t+=1\n",
        "      else:\n",
        "        bsp_count_t-=1\n",
        "      t_ptr-=1\n",
        "    if s_ptr >= 0 and t_ptr >=0 and (s[s_ptr] == t[t_ptr]):\n",
        "      s_ptr -=1\n",
        "      t_ptr -=1\n",
        "    else:\n",
        "      return s_ptr == -1 and t_ptr == -1\n",
        "  return True\n",
        "  \n"
      ],
      "metadata": {
        "id": "uZpCP3vuImQv"
      },
      "execution_count": 10,
      "outputs": []
    },
    {
      "cell_type": "code",
      "source": [
        "class Solution(object):\n",
        "    def remove_backspace(self, string):\n",
        "        stack = []\n",
        "\n",
        "        for char in string:\n",
        "            if char != \"#\":\n",
        "                stack.append(char)\n",
        "            else:\n",
        "                if len(stack):\n",
        "                    stack.pop()\n",
        "        return \"\".join(stack)\n",
        "    \n",
        "    def backspaceCompare(self, s, t):\n",
        "        \"\"\"\n",
        "        :type s: str\n",
        "        :type t: str\n",
        "        :rtype: bool\n",
        "        \"\"\"\n",
        "        s,t = self.remove_backspace(s), self.remove_backspace(t)\n",
        "        return s == t\n",
        "    "
      ],
      "metadata": {
        "id": "AflrQDyMImki"
      },
      "execution_count": 46,
      "outputs": []
    },
    {
      "cell_type": "markdown",
      "source": [
        "lets say array = [6]\n",
        "\n",
        "p1 = 0\n",
        "\n",
        "- area = min(0,1)*(1-0)\n",
        "- max(-1e10,0) = 0\n"
      ],
      "metadata": {
        "id": "vKTBuQIcyj-F"
      }
    },
    {
      "cell_type": "code",
      "source": [
        "S = \"ag#c\"\n",
        "T = \"ad#c\"\n",
        "backSpaceCompare(S,T),backSpaceCompare_v2(S,T)\n"
      ],
      "metadata": {
        "colab": {
          "base_uri": "https://localhost:8080/"
        },
        "id": "qmlOvszQ0cYm",
        "outputId": "6b9eba9b-bacb-4a8d-9e0c-811f94eeab86"
      },
      "execution_count": 12,
      "outputs": [
        {
          "output_type": "execute_result",
          "data": {
            "text/plain": [
              "(True, True)"
            ]
          },
          "metadata": {},
          "execution_count": 12
        }
      ]
    },
    {
      "cell_type": "code",
      "source": [
        "S = \"ag#c\"\n",
        "T = \"af#d#c\"\n",
        "backSpaceCompare(S,T), backSpaceCompare_v2(S,T)"
      ],
      "metadata": {
        "colab": {
          "base_uri": "https://localhost:8080/"
        },
        "id": "UbMVN1sZFyPv",
        "outputId": "16ce29c4-031e-4939-b85a-1bc4ac7b2df5"
      },
      "execution_count": 13,
      "outputs": [
        {
          "output_type": "execute_result",
          "data": {
            "text/plain": [
              "(True, True)"
            ]
          },
          "metadata": {},
          "execution_count": 13
        }
      ]
    },
    {
      "cell_type": "code",
      "source": [
        "S = \"ag#fc\"\n",
        "T = \"af#d#c\"\n",
        "backSpaceCompare(S,T), backSpaceCompare_v2(S,T)"
      ],
      "metadata": {
        "colab": {
          "base_uri": "https://localhost:8080/"
        },
        "id": "s0ZropbMLbwF",
        "outputId": "9db227f3-6be6-4eb7-c134-d72f0ba95602"
      },
      "execution_count": 14,
      "outputs": [
        {
          "output_type": "execute_result",
          "data": {
            "text/plain": [
              "(False, False)"
            ]
          },
          "metadata": {},
          "execution_count": 14
        }
      ]
    },
    {
      "cell_type": "code",
      "source": [
        "S = \"ag#fc\"\n",
        "T = \"af#d#c\"\n",
        "solution = Solution()\n",
        "solution.backspaceCompare(S,T)"
      ],
      "metadata": {
        "colab": {
          "base_uri": "https://localhost:8080/"
        },
        "id": "_SoyUrvV9QUd",
        "outputId": "37975a1c-f332-4e82-fe4b-2237df960c9e"
      },
      "execution_count": 50,
      "outputs": [
        {
          "output_type": "execute_result",
          "data": {
            "text/plain": [
              "False"
            ]
          },
          "metadata": {},
          "execution_count": 50
        }
      ]
    }
  ]
}