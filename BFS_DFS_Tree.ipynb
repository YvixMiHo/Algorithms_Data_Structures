{
  "nbformat": 4,
  "nbformat_minor": 0,
  "metadata": {
    "colab": {
      "name": "BFS_DFS_Tree.ipynb",
      "provenance": [],
      "collapsed_sections": [],
      "authorship_tag": "ABX9TyPWfHLTnqQ6OmgHNjR/Rvwp",
      "include_colab_link": true
    },
    "kernelspec": {
      "name": "python3",
      "display_name": "Python 3"
    },
    "language_info": {
      "name": "python"
    }
  },
  "cells": [
    {
      "cell_type": "markdown",
      "metadata": {
        "id": "view-in-github",
        "colab_type": "text"
      },
      "source": [
        "<a href=\"https://colab.research.google.com/github/YvixMiHo/Algorithms_Data_Structures/blob/main/BFS_DFS_Tree.ipynb\" target=\"_parent\"><img src=\"https://colab.research.google.com/assets/colab-badge.svg\" alt=\"Open In Colab\"/></a>"
      ]
    },
    {
      "cell_type": "markdown",
      "source": [
        "##Basic Depth first Search and Breadth first Search \n",
        "\n",
        "Algorithms are done using pre-order traversal for DFS.\n",
        "\n",
        "> **Note dfs uses less memory compared to bfs."
      ],
      "metadata": {
        "id": "tfY61WTJAt2v"
      }
    },
    {
      "cell_type": "code",
      "source": [
        "from collections import deque"
      ],
      "metadata": {
        "id": "2wgZxJnjMFQq"
      },
      "execution_count": null,
      "outputs": []
    },
    {
      "cell_type": "markdown",
      "source": [
        "#Create Binary Tree\n",
        "binary tree will have a node with a left and right and data for its value and a method to utilize printing it as a string.\n",
        "\n",
        "         a\n",
        "        / \\\n",
        "       b   c\n",
        "      / \\   \\\n",
        "     d   e   f\n",
        "    /\\   /\\  /\\\n",
        "    0 0  0 0 0 0"
      ],
      "metadata": {
        "id": "M4uXbTTuTt28"
      }
    },
    {
      "cell_type": "code",
      "source": [
        "\n",
        "class Node:\n",
        "  def __init__(self, data):\n",
        "    self.left = None\n",
        "    self.right = None\n",
        "    self.data = data\n",
        "\n",
        "  def __str__(self):\n",
        "    return str(self.data)"
      ],
      "metadata": {
        "id": "ZV5XFpwGxEcL"
      },
      "execution_count": null,
      "outputs": []
    },
    {
      "cell_type": "markdown",
      "source": [
        "Depth and breadth first tree done via pre-order"
      ],
      "metadata": {
        "id": "GzYrR3hNWRSJ"
      }
    },
    {
      "cell_type": "code",
      "source": [
        "def dfs_tree(root):\n",
        "  if root is None:\n",
        "    return []\n",
        "  \n",
        "  stack = []\n",
        "  stack.append(root)\n",
        "  \n",
        "  while len(stack)>0:\n",
        "    curr = stack.pop()\n",
        "    if curr is not None:\n",
        "      print(curr)\n",
        "      stack.append(curr.right)\n",
        "      stack.append(curr.left)\n",
        "\n",
        "def bfs_tree(root):\n",
        "  if root is None:\n",
        "    return []\n",
        "  \n",
        "  queue = deque()\n",
        "  queue.append(root)\n",
        "  \n",
        "  while len(queue)>0:\n",
        "    curr = queue.popleft()\n",
        "    \n",
        "    if curr is not None:\n",
        "      print(curr)\n",
        "      queue.append(curr.left) \n",
        "      queue.append(curr.right)"
      ],
      "metadata": {
        "id": "uE0qCBrNVIqG"
      },
      "execution_count": null,
      "outputs": []
    },
    {
      "cell_type": "code",
      "source": [
        "def dfs_target_tree(root, target):\n",
        "  if root is None:\n",
        "    return []\n",
        "  \n",
        "  stack = []\n",
        "  stack.append(root)\n",
        "  \n",
        "  while len(stack)>0:\n",
        "    curr = stack.pop()\n",
        "    \n",
        "    if curr == target:\n",
        "      print(\"target found\",curr)\n",
        "      break\n",
        "    \n",
        "    if curr is not None:\n",
        "      print(curr)\n",
        "      stack.append(curr.right)\n",
        "      stack.append(curr.left)"
      ],
      "metadata": {
        "id": "ndVSPdG10pEk"
      },
      "execution_count": null,
      "outputs": []
    },
    {
      "cell_type": "code",
      "source": [
        "def dfs_tree_min(root):\n",
        "  stack = []\n",
        "  stack.append(root)\n",
        "  min = 1e+10 #value approx to inf\n",
        "  \n",
        "  while len(stack)>0:\n",
        "    curr = stack.pop()\n",
        "    \n",
        "    if curr is not None:\n",
        "      if curr.data < min:\n",
        "        min = curr.data\n",
        "      print(\"Node is :\", curr)\n",
        "      stack.append(curr.right)\n",
        "      stack.append(curr.left)\n",
        "\n",
        "  print(\"The min is:\", min)\n",
        "\n",
        "def dfs_tree_max(root):\n",
        "  stack = []\n",
        "  stack.append(root)\n",
        "  max = -1e+10 #value approx to inf\n",
        "  \n",
        "  while len(stack)>0:\n",
        "    curr = stack.pop()\n",
        "    \n",
        "    if curr is not None:\n",
        "      if curr.data > max:\n",
        "        max = curr.data\n",
        "      print(\"Node is :\", curr)\n",
        "      stack.append(curr.right)\n",
        "      stack.append(curr.left)\n",
        "\n",
        "  print(\"The max is:\", max)"
      ],
      "metadata": {
        "id": "pBzJbSmJJxmD"
      },
      "execution_count": null,
      "outputs": []
    },
    {
      "cell_type": "code",
      "source": [
        "a = Node(10)\n",
        "b = Node(11)\n",
        "c = Node(5)\n",
        "d = Node(12)\n",
        "e = Node(13)\n",
        "f = Node(1)\n",
        "i = Node(7)\n",
        "\n",
        "\n",
        "a.left = b\n",
        "a.right = c\n",
        "b.left = d\n",
        "b.right = e\n",
        "c.right = f\n"
      ],
      "metadata": {
        "colab": {
          "base_uri": "https://localhost:8080/"
        },
        "id": "szXg0Hg4xpGR",
        "outputId": "0f8b0dd7-3181-4ed1-d9e5-7279b49b5537"
      },
      "execution_count": null,
      "outputs": [
        {
          "output_type": "stream",
          "name": "stdout",
          "text": [
            "10\n"
          ]
        }
      ]
    },
    {
      "cell_type": "code",
      "source": [
        "dfs_tree(a)"
      ],
      "metadata": {
        "colab": {
          "base_uri": "https://localhost:8080/"
        },
        "id": "0ozWDxa1zBUU",
        "outputId": "e303fa67-98b8-4114-a9f0-05096af8be93"
      },
      "execution_count": null,
      "outputs": [
        {
          "output_type": "stream",
          "name": "stdout",
          "text": [
            "10\n",
            "11\n",
            "12\n",
            "13\n",
            "5\n",
            "1\n"
          ]
        }
      ]
    },
    {
      "cell_type": "code",
      "source": [
        "dfs_target_tree(a,c)"
      ],
      "metadata": {
        "colab": {
          "base_uri": "https://localhost:8080/"
        },
        "id": "XQxR9hyujE-j",
        "outputId": "46458cf1-7db3-4fb7-dcd4-c4f68bc7c175"
      },
      "execution_count": null,
      "outputs": [
        {
          "output_type": "stream",
          "name": "stdout",
          "text": [
            "10\n",
            "11\n",
            "12\n",
            "13\n",
            "target found 5\n"
          ]
        }
      ]
    },
    {
      "cell_type": "code",
      "source": [
        "bfs_tree(a)"
      ],
      "metadata": {
        "colab": {
          "base_uri": "https://localhost:8080/"
        },
        "id": "lvKAimbZMvJZ",
        "outputId": "267f77bf-90a5-444b-91ba-d3b3e7b85307"
      },
      "execution_count": null,
      "outputs": [
        {
          "output_type": "stream",
          "name": "stdout",
          "text": [
            "10\n",
            "11\n",
            "5\n",
            "12\n",
            "13\n",
            "1\n"
          ]
        }
      ]
    },
    {
      "cell_type": "code",
      "source": [
        "dfs_tree_sumtotal(a)"
      ],
      "metadata": {
        "colab": {
          "base_uri": "https://localhost:8080/"
        },
        "id": "u4wKIF8e1Ur_",
        "outputId": "59e6cbc4-521a-42a6-df06-e2dacb3f7615"
      },
      "execution_count": null,
      "outputs": [
        {
          "output_type": "stream",
          "name": "stdout",
          "text": [
            "Node is : 10\n",
            "Node is : 11\n",
            "Node is : 12\n",
            "Node is : 13\n",
            "Node is : 5\n",
            "Node is : 1\n",
            "Total is:  52\n"
          ]
        }
      ]
    },
    {
      "cell_type": "code",
      "source": [
        "dfs_tree_min(a)"
      ],
      "metadata": {
        "colab": {
          "base_uri": "https://localhost:8080/"
        },
        "id": "6J98j0C8Md1y",
        "outputId": "b61ae604-73fb-4d3b-9cec-3644e9cd4d09"
      },
      "execution_count": null,
      "outputs": [
        {
          "output_type": "stream",
          "name": "stdout",
          "text": [
            "Node is : 10\n",
            "Node is : 11\n",
            "Node is : 12\n",
            "Node is : 13\n",
            "Node is : 5\n",
            "Node is : 1\n",
            "The min is: 1\n"
          ]
        }
      ]
    },
    {
      "cell_type": "code",
      "source": [
        "dfs_tree_max(a)"
      ],
      "metadata": {
        "colab": {
          "base_uri": "https://localhost:8080/"
        },
        "id": "lwAp0bZrR5zA",
        "outputId": "11fe0a65-8860-48f4-d9d5-aff26bb50acd"
      },
      "execution_count": null,
      "outputs": [
        {
          "output_type": "stream",
          "name": "stdout",
          "text": [
            "Node is : 10\n",
            "Node is : 11\n",
            "Node is : 12\n",
            "Node is : 13\n",
            "Node is : 5\n",
            "Node is : 1\n",
            "The max is: 13\n"
          ]
        }
      ]
    }
  ]
}