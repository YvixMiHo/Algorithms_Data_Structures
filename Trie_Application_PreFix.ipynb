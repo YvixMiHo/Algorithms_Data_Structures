{
  "nbformat": 4,
  "nbformat_minor": 0,
  "metadata": {
    "colab": {
      "name": "Trie_Application_PreFix.ipynb",
      "provenance": [],
      "collapsed_sections": [],
      "authorship_tag": "ABX9TyNB7LGz2GhUBYOAZ71QlOA4",
      "include_colab_link": true
    },
    "kernelspec": {
      "name": "python3",
      "display_name": "Python 3"
    },
    "language_info": {
      "name": "python"
    }
  },
  "cells": [
    {
      "cell_type": "markdown",
      "metadata": {
        "id": "view-in-github",
        "colab_type": "text"
      },
      "source": [
        "<a href=\"https://colab.research.google.com/github/YvixMiHo/Algorithms_Data_Structures/blob/main/Trie_Application_PreFix.ipynb\" target=\"_parent\"><img src=\"https://colab.research.google.com/assets/colab-badge.svg\" alt=\"Open In Colab\"/></a>"
      ]
    },
    {
      "cell_type": "markdown",
      "source": [
        "Implement a trie with insert, search and startsWith methods"
      ],
      "metadata": {
        "id": "4R7Y-0AFlz-P"
      }
    },
    {
      "cell_type": "markdown",
      "source": [
        "           root\n",
        "          /\n",
        "         d\n",
        "        /\n",
        "       o\n",
        "      /\n",
        "     g\n",
        "\n",
        "insert works as following\n",
        "create a current variable to store and keep track of the Trie's root. \n",
        "\n",
        "\"dog\"  ----->  root\n",
        "           \n",
        "\n",
        "for char in \"dog\"\n",
        "if char is not in current's child hash table. add a new trie node with the char at the current index and store that in current childs corresponding index\n",
        "\n",
        "after update current to be the current child at the index\n",
        "\n",
        "update current's end of word to true\n",
        "\n",
        "        cur->  root    is d in root? nope\n",
        " \n",
        "\n",
        "      cur->   root  add new node to root\n",
        "             /      and store 'd' in it\n",
        "            d\n",
        "\n",
        "             root\n",
        "            /\n",
        "     cur-> d\n",
        "          \n",
        "             root\n",
        "            /\n",
        "           d\n",
        "          /\n",
        "         o\n",
        "\n",
        "\n",
        "            root\n",
        "           /\n",
        "          d\n",
        "         /\n",
        "        o\n",
        "       / \n",
        "      g\n",
        "     /      \n",
        "    True\n"
      ],
      "metadata": {
        "id": "g8DcAhoujLA7"
      }
    },
    {
      "cell_type": "code",
      "source": [
        "class TrieNode:\n",
        "  def __init__(self, char):\n",
        "    self.child = {}\n",
        "    self.is_end_of_word = False\n",
        "\n",
        "class Trie:\n",
        "  def __init__(self):\n",
        "    self.root = TrieNode(\"*\")\n",
        "  \n",
        "  def insert(self, word):\n",
        "    current = self.root\n",
        "    for char in word:\n",
        "      if char not in current.child:\n",
        "        current.child[char] = TrieNode(char)\n",
        "      current = current.child[char]\n",
        "    current.is_end_of_word = True\n",
        "\n",
        "  def search(self, word):\n",
        "    if word == \"\":\n",
        "      return True\n",
        "    current = self.root\n",
        "    for char in word:\n",
        "      if char not in current.child:\n",
        "        return False\n",
        "      current = current.child[char]\n",
        "    return current.is_end_of_word\n",
        "\n",
        "  def startsWith(self, prefix):\n",
        "    if prefix == \"\":\n",
        "      return True\n",
        "    current = self.root\n",
        "    for char in prefix:\n",
        "      if char not in current.child:\n",
        "        return False\n",
        "      current = current.child[char]\n",
        "    return True\n"
      ],
      "metadata": {
        "id": "_SoyUrvV9QUd"
      },
      "execution_count": null,
      "outputs": []
    },
    {
      "cell_type": "code",
      "source": [
        "trie = Trie()\n",
        "trie.insert(\"hello\")\n",
        "trie.search(\"hello\"), trie.search(\"hel\")"
      ],
      "metadata": {
        "colab": {
          "base_uri": "https://localhost:8080/"
        },
        "id": "mlWpVKFehFx_",
        "outputId": "40dc6d84-d1d5-4066-832e-353be20cc207"
      },
      "execution_count": null,
      "outputs": [
        {
          "output_type": "execute_result",
          "data": {
            "text/plain": [
              "(True, False)"
            ]
          },
          "metadata": {},
          "execution_count": 7
        }
      ]
    },
    {
      "cell_type": "code",
      "source": [
        "trie.startsWith(\"h\")"
      ],
      "metadata": {
        "colab": {
          "base_uri": "https://localhost:8080/"
        },
        "id": "qU7rc7kthl5Z",
        "outputId": "dcc098a7-75b6-4a9d-ea5f-c30bf5fefbd4"
      },
      "execution_count": null,
      "outputs": [
        {
          "output_type": "execute_result",
          "data": {
            "text/plain": [
              "True"
            ]
          },
          "metadata": {},
          "execution_count": 12
        }
      ]
    }
  ]
}