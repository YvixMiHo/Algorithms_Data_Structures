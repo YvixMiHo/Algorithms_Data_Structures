{
  "nbformat": 4,
  "nbformat_minor": 0,
  "metadata": {
    "colab": {
      "name": "LinkedList.ipynb",
      "provenance": [],
      "collapsed_sections": [],
      "authorship_tag": "ABX9TyP7OVAeMAr8JyUEpd8li0sK",
      "include_colab_link": true
    },
    "kernelspec": {
      "name": "python3",
      "display_name": "Python 3"
    },
    "language_info": {
      "name": "python"
    }
  },
  "cells": [
    {
      "cell_type": "markdown",
      "metadata": {
        "id": "view-in-github",
        "colab_type": "text"
      },
      "source": [
        "<a href=\"https://colab.research.google.com/github/YvixMiHo/Algorithms_Data_Structures/blob/main/LinkedList.ipynb\" target=\"_parent\"><img src=\"https://colab.research.google.com/assets/colab-badge.svg\" alt=\"Open In Colab\"/></a>"
      ]
    },
    {
      "cell_type": "markdown",
      "source": [
        "##Basic Linked List class and methods\n",
        "methods include:\n",
        "> (1) Linked list to array\n",
        "\n",
        "> (2) Sum of all nodes in Linked List\n",
        "\n",
        "> (3) Searching a Linked List given a target value\n",
        "\n",
        "> (4) Find index given a value in Linked List\n",
        "\n",
        "> (5) Reversing a Linked List normally and using a stack\n",
        "\n",
        "> (6) Zipping a two linked lists togeather"
      ],
      "metadata": {
        "id": "kgpl2ZqaW6tb"
      }
    },
    {
      "cell_type": "markdown",
      "source": [
        "## 1. Create a node class for the linked list"
      ],
      "metadata": {
        "id": "pho68EVDhbLu"
      }
    },
    {
      "cell_type": "code",
      "source": [
        "class Node:\n",
        "  def __init__(self,data):\n",
        "    self.next = None\n",
        "    self.data = data\n",
        "  def __str__(self):\n",
        "    return str(self.data)"
      ],
      "metadata": {
        "id": "ucHCFcQPgJRW"
      },
      "execution_count": 36,
      "outputs": []
    },
    {
      "cell_type": "markdown",
      "source": [
        "## 2. Create a Method to print the linked list"
      ],
      "metadata": {
        "id": "bH_-Aj16hxJs"
      }
    },
    {
      "cell_type": "code",
      "source": [
        "def linked_list(head):\n",
        "  curr = head\n",
        "  while curr is not None:\n",
        "    print(curr)\n",
        "    curr = curr.next"
      ],
      "metadata": {
        "id": "IB5skLcgxYVK"
      },
      "execution_count": 37,
      "outputs": []
    },
    {
      "cell_type": "markdown",
      "source": [
        "## 3. Create a method to convert linked list to an array"
      ],
      "metadata": {
        "id": "2YpyGXEUiD-E"
      }
    },
    {
      "cell_type": "code",
      "source": [
        "def Linkedlist2_array(head):\n",
        "  array = []\n",
        "  curr = head\n",
        "  while curr is not None:\n",
        "    array.append(curr.data)\n",
        "    curr = curr.next\n",
        "  return array"
      ],
      "metadata": {
        "id": "ri58f-LhBjyS"
      },
      "execution_count": 38,
      "outputs": []
    },
    {
      "cell_type": "markdown",
      "source": [
        "## 4. Create a method to sum all elements in the linked list"
      ],
      "metadata": {
        "id": "9UE6popAiOaM"
      }
    },
    {
      "cell_type": "code",
      "source": [
        "def Linkedlist_sum(head):\n",
        "  curr = head\n",
        "  sum = 0\n",
        "  while curr is not None:\n",
        "    sum += curr.data\n",
        "    curr = curr.next\n",
        "  return sum"
      ],
      "metadata": {
        "id": "eLV-GlslEPxx"
      },
      "execution_count": 39,
      "outputs": []
    },
    {
      "cell_type": "markdown",
      "source": [
        "## 5. Create a method to search for a given value in the linked list"
      ],
      "metadata": {
        "id": "cccJl2f7iXKJ"
      }
    },
    {
      "cell_type": "code",
      "source": [
        "def Linkedlist2_search(head,target):\n",
        "  curr = head\n",
        "  while curr is not None:\n",
        "    if curr.data == target:\n",
        "      print(\"target is found:\",curr.data)\n",
        "    curr = curr.next"
      ],
      "metadata": {
        "id": "6ON3I4qtNGVc"
      },
      "execution_count": 40,
      "outputs": []
    },
    {
      "cell_type": "markdown",
      "source": [
        "## 6. Create a method to return the index of a given value in the linked list"
      ],
      "metadata": {
        "id": "4FixHk1Fiepv"
      }
    },
    {
      "cell_type": "code",
      "source": [
        "def Linkedlist2_get_idx(head,target):\n",
        "  curr = head\n",
        "  idx = 0\n",
        "  while curr is not None:\n",
        "    idx += 1\n",
        "    if curr.data == target:\n",
        "      print(\"target is found:\",curr.data)\n",
        "      print(\"target is at index\", idx)\n",
        "    curr = curr.next"
      ],
      "metadata": {
        "id": "Rn01N63qPWcJ"
      },
      "execution_count": 41,
      "outputs": []
    },
    {
      "cell_type": "markdown",
      "source": [
        "## 7. Create a method to get value at a given index in a linked list"
      ],
      "metadata": {
        "id": "qUA7wOQ5ihcW"
      }
    },
    {
      "cell_type": "code",
      "source": [
        "def Linkedlist2_get_value(head,idxT):\n",
        "  curr = head\n",
        "  idx = -1\n",
        "  while curr is not None:\n",
        "    idx += 1\n",
        "    if idx == idxT:\n",
        "      print(\"target at index:\", idx, \"is of value:\",curr.data)\n",
        "    curr = curr.next"
      ],
      "metadata": {
        "id": "RUmfTR2FRxZk"
      },
      "execution_count": 42,
      "outputs": []
    },
    {
      "cell_type": "markdown",
      "source": [
        "## 8. Create a method to reverse a linked list using both a stack and temp var"
      ],
      "metadata": {
        "id": "6RUZW09PiiHU"
      }
    },
    {
      "cell_type": "code",
      "source": [
        "def linked_list_reverse_stack(head):\n",
        "  curr = head\n",
        "  stack = []\n",
        "  while curr is not None:\n",
        "    stack.append(curr)\n",
        "    curr = curr.next\n",
        "  while len(stack)>0:\n",
        "    reverse = stack.pop()\n",
        "    print(reverse)\n",
        "    reverse = reverse.next\n",
        "\n",
        "def linked_list_reverse(head):\n",
        "  curr = head\n",
        "  prev = None\n",
        "  next = curr.next\n",
        "  while curr is not None:\n",
        "    curr.next = prev\n",
        "    prev = curr\n",
        "    curr = next\n",
        "  head = prev\n",
        "  "
      ],
      "metadata": {
        "id": "95As7qOIYBGz"
      },
      "execution_count": 51,
      "outputs": []
    },
    {
      "cell_type": "markdown",
      "source": [
        "## 9. Create a method to merge to linked lists togeather in a zig zag pattern "
      ],
      "metadata": {
        "id": "P3yaS6pUiit8"
      }
    },
    {
      "cell_type": "code",
      "source": [
        "def linked_list_zip(head1,head2):\n",
        "  tail = head1\n",
        "  curr1 = head1.next\n",
        "  curr2 = head2\n",
        "  count = 0\n",
        "  \n",
        "  while curr1 is not None and curr2 is not None:\n",
        "    if count % 2 == 2:\n",
        "      tail.next = curr2\n",
        "      curr2 = curr2.next\n",
        "    else:\n",
        "      tail.next = curr1\n",
        "      curr1 = curr1.next\n",
        "    tail = tail.next\n",
        "    count+=1\n"
      ],
      "metadata": {
        "id": "zOx1J6e2opLA"
      },
      "execution_count": 44,
      "outputs": []
    },
    {
      "cell_type": "markdown",
      "source": [
        "## Test the functions "
      ],
      "metadata": {
        "id": "xYdZ9VTJikEE"
      }
    },
    {
      "cell_type": "code",
      "source": [
        "a = Node(1)\n",
        "b = Node(3)\n",
        "c = Node(5)\n",
        "d = Node(7)\n",
        "e = Node(9)\n",
        "f = Node(11)\n",
        "\n",
        "a.next = b\n",
        "b.next = c\n",
        "c.next = d\n",
        "d.next = e\n",
        "e.next = f\n",
        "\n",
        "\n",
        "a1 = Node(2)\n",
        "b1 = Node(4)\n",
        "c1 = Node(6)\n",
        "d1 = Node(8)\n",
        "e1 = Node(10)\n",
        "f1 = Node(12)\n",
        "\n",
        "a1.next = b1\n",
        "b1.next = c1\n",
        "c1.next = d1\n",
        "d1.next = e1\n",
        "e1.next = f1"
      ],
      "metadata": {
        "id": "odAhA2LDvV0W"
      },
      "execution_count": 55,
      "outputs": []
    },
    {
      "cell_type": "code",
      "source": [
        "linked_list(a)"
      ],
      "metadata": {
        "colab": {
          "base_uri": "https://localhost:8080/"
        },
        "id": "MgoUGjy5xWEv",
        "outputId": "851bc846-b30a-4bd2-f7ef-0b872c76738c"
      },
      "execution_count": 56,
      "outputs": [
        {
          "output_type": "stream",
          "name": "stdout",
          "text": [
            "1\n",
            "3\n",
            "5\n",
            "7\n",
            "9\n",
            "11\n"
          ]
        }
      ]
    },
    {
      "cell_type": "code",
      "source": [
        "#new = linked_list_zip(a,a1)\n",
        "#linked_list(new)"
      ],
      "metadata": {
        "id": "PdDUkrhMtTFg"
      },
      "execution_count": 47,
      "outputs": []
    },
    {
      "cell_type": "code",
      "source": [
        "#linked_list_reverse(a)"
      ],
      "metadata": {
        "id": "ttbNPS69fDSj",
        "colab": {
          "base_uri": "https://localhost:8080/",
          "height": 287
        },
        "outputId": "99a0df65-4a6c-4be8-82cd-a856d51b762d"
      },
      "execution_count": 48,
      "outputs": [
        {
          "output_type": "error",
          "ename": "KeyboardInterrupt",
          "evalue": "ignored",
          "traceback": [
            "\u001b[0;31m---------------------------------------------------------------------------\u001b[0m",
            "\u001b[0;31mKeyboardInterrupt\u001b[0m                         Traceback (most recent call last)",
            "\u001b[0;32m<ipython-input-48-5511080d7fcf>\u001b[0m in \u001b[0;36m<module>\u001b[0;34m()\u001b[0m\n\u001b[0;32m----> 1\u001b[0;31m \u001b[0mlinked_list_reverse\u001b[0m\u001b[0;34m(\u001b[0m\u001b[0ma\u001b[0m\u001b[0;34m)\u001b[0m\u001b[0;34m\u001b[0m\u001b[0;34m\u001b[0m\u001b[0m\n\u001b[0m",
            "\u001b[0;32m<ipython-input-43-566b65f6c80d>\u001b[0m in \u001b[0;36mlinked_list_reverse\u001b[0;34m(head)\u001b[0m\n\u001b[1;32m     14\u001b[0m   \u001b[0mprev\u001b[0m \u001b[0;34m=\u001b[0m \u001b[0;32mNone\u001b[0m\u001b[0;34m\u001b[0m\u001b[0;34m\u001b[0m\u001b[0m\n\u001b[1;32m     15\u001b[0m   \u001b[0mnext\u001b[0m \u001b[0;34m=\u001b[0m \u001b[0mcurr\u001b[0m\u001b[0;34m.\u001b[0m\u001b[0mnext\u001b[0m\u001b[0;34m\u001b[0m\u001b[0;34m\u001b[0m\u001b[0m\n\u001b[0;32m---> 16\u001b[0;31m   \u001b[0;32mwhile\u001b[0m \u001b[0mcurr\u001b[0m \u001b[0;32mis\u001b[0m \u001b[0;32mnot\u001b[0m \u001b[0;32mNone\u001b[0m\u001b[0;34m:\u001b[0m\u001b[0;34m\u001b[0m\u001b[0;34m\u001b[0m\u001b[0m\n\u001b[0m\u001b[1;32m     17\u001b[0m     \u001b[0mcurr\u001b[0m\u001b[0;34m.\u001b[0m\u001b[0mnext\u001b[0m \u001b[0;34m=\u001b[0m \u001b[0mprev\u001b[0m\u001b[0;34m\u001b[0m\u001b[0;34m\u001b[0m\u001b[0m\n\u001b[1;32m     18\u001b[0m     \u001b[0mprev\u001b[0m \u001b[0;34m=\u001b[0m \u001b[0mcurr\u001b[0m\u001b[0;34m\u001b[0m\u001b[0;34m\u001b[0m\u001b[0m\n",
            "\u001b[0;31mKeyboardInterrupt\u001b[0m: "
          ]
        }
      ]
    },
    {
      "cell_type": "code",
      "source": [
        "linked_list_reverse_stack(a)"
      ],
      "metadata": {
        "id": "vUJDI1-Vah7-",
        "colab": {
          "base_uri": "https://localhost:8080/"
        },
        "outputId": "b8040dbc-03ee-4ee8-dfc1-e6290dc23ee7"
      },
      "execution_count": 57,
      "outputs": [
        {
          "output_type": "stream",
          "name": "stdout",
          "text": [
            "11\n",
            "9\n",
            "7\n",
            "5\n",
            "3\n",
            "1\n"
          ]
        }
      ]
    },
    {
      "cell_type": "code",
      "source": [
        "array1 = []\n",
        "array1 = Linkedlist2_array(a)\n",
        "array1"
      ],
      "metadata": {
        "id": "qou_5_giCqIr",
        "colab": {
          "base_uri": "https://localhost:8080/"
        },
        "outputId": "11497cfa-1774-47d2-e165-f74c07c95ec8"
      },
      "execution_count": 58,
      "outputs": [
        {
          "output_type": "execute_result",
          "data": {
            "text/plain": [
              "[1, 3, 5, 7, 9, 11]"
            ]
          },
          "metadata": {},
          "execution_count": 58
        }
      ]
    },
    {
      "cell_type": "code",
      "source": [
        "Linkedlist_sum(a)"
      ],
      "metadata": {
        "id": "XXxnPI0JMZ6I",
        "colab": {
          "base_uri": "https://localhost:8080/"
        },
        "outputId": "e8ff93c9-ad86-4cbf-aec9-1f69129977ad"
      },
      "execution_count": 59,
      "outputs": [
        {
          "output_type": "execute_result",
          "data": {
            "text/plain": [
              "36"
            ]
          },
          "metadata": {},
          "execution_count": 59
        }
      ]
    },
    {
      "cell_type": "code",
      "source": [
        "Linkedlist2_search(a,4)"
      ],
      "metadata": {
        "id": "2SJsuwjwNw6y"
      },
      "execution_count": 60,
      "outputs": []
    },
    {
      "cell_type": "code",
      "source": [
        "Linkedlist2_get_idx(a,4)"
      ],
      "metadata": {
        "id": "5NPnhGNaP49Y"
      },
      "execution_count": 61,
      "outputs": []
    },
    {
      "cell_type": "code",
      "source": [
        "Linkedlist2_get_value(a,5)"
      ],
      "metadata": {
        "id": "uv8mwmk8XcSQ",
        "colab": {
          "base_uri": "https://localhost:8080/"
        },
        "outputId": "b2b33686-9b66-4331-8e9d-1357a04c3e38"
      },
      "execution_count": 62,
      "outputs": [
        {
          "output_type": "stream",
          "name": "stdout",
          "text": [
            "target at index: 5 is of value: 11\n"
          ]
        }
      ]
    },
    {
      "cell_type": "code",
      "source": [
        ""
      ],
      "metadata": {
        "id": "kXrtH_pSafJB"
      },
      "execution_count": null,
      "outputs": []
    }
  ]
}