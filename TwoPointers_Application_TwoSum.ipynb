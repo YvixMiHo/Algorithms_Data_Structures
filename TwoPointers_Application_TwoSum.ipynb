{
  "nbformat": 4,
  "nbformat_minor": 0,
  "metadata": {
    "colab": {
      "name": "TwoPointers_Application_TwoSum.ipynb",
      "provenance": [],
      "collapsed_sections": [],
      "authorship_tag": "ABX9TyOeVZ8Ft4whrEVCDdUc4W9t",
      "include_colab_link": true
    },
    "kernelspec": {
      "name": "python3",
      "display_name": "Python 3"
    },
    "language_info": {
      "name": "python"
    }
  },
  "cells": [
    {
      "cell_type": "markdown",
      "metadata": {
        "id": "view-in-github",
        "colab_type": "text"
      },
      "source": [
        "<a href=\"https://colab.research.google.com/github/YvixMiHo/Algorithms_Data_Structures/blob/main/TwoPointers_Application_TwoSum.ipynb\" target=\"_parent\"><img src=\"https://colab.research.google.com/assets/colab-badge.svg\" alt=\"Open In Colab\"/></a>"
      ]
    },
    {
      "cell_type": "markdown",
      "source": [
        "Given an **array** of intergets **return** the **indicies** of the two numbers that add up to a given target.\n",
        "- array = [1,3,7,9,2]\n",
        "- Target = 11\n",
        "\n",
        "Procedure outline:\n",
        "\n",
        "1. what are we given:\n",
        "  - target and array\n",
        "2. what are we being asked to solve:\n",
        "  - the two pairs in an array that add up to target\n",
        "\n",
        "\n"
      ],
      "metadata": {
        "id": "4R7Y-0AFlz-P"
      }
    },
    {
      "cell_type": "markdown",
      "source": [
        "Step 1. verify the constraints(Question the assumptions/determine what assumptions are valid):\n",
        "\n",
        "1. are all numbers postive or can there be negatives?\n",
        "\n",
        "2. are there duplicate numbers in the array\n",
        "\n",
        "3. will there always be able to find a solution. \n",
        "\n",
        " - Example receiving an empty array, a target not in the array, and a single array.\n",
        "\n",
        "4. what to return if there is no solution?\n",
        "\n",
        "5. can there be multiple pairs that add up to target?\n"
      ],
      "metadata": {
        "id": "hoA2wKGfqecL"
      }
    },
    {
      "cell_type": "markdown",
      "source": [
        "Step 2. Write out test cases\n",
        "\n",
        "- input: a = [1,3,7,9,2], t = 11\n",
        "\n",
        "- output: [3,4]\n",
        "\n",
        "Edge case 1: if t = 25 given 'a' the output shall be null or '[ ]'\n",
        "\n",
        "Edge case 2: if a = [ ] and t = any number, output shall be null or '[ ]'\n",
        "\n",
        "Edge case 3: if a = [5] and t = 5, output shall be null or '[ ]' as no to numbers in array that add up to 5\n",
        "\n",
        "Edge case 4: if a = [1,6] and t = 7 \n",
        "output shall be [0,1]"
      ],
      "metadata": {
        "id": "rWI3rPImqgVy"
      }
    },
    {
      "cell_type": "markdown",
      "source": [
        "Create a working solution:\n",
        "\n",
        "target = 11\n",
        "\n",
        ">[0,1,2,3,4]\n",
        "\n",
        ">[1,3,7,9,2]\n",
        "\n",
        ">[a0,a1,a2,a3,a4]\n",
        "\n",
        "- a0+a1 == target --> nope \n",
        "\n",
        "- a0+a2 == target --> nope\n",
        " \n",
        "- a0+a3 == target --> nope\n",
        "\n",
        "- a0+a4 == target --> nope\n",
        "\n",
        "move increment p1 and reset p2\n",
        "\n",
        "- a1+a2 == target --> nope\n",
        "\n",
        "- a1+a3 == target --> nope\n",
        "\n",
        "- a1+a4 == target --> nope\n",
        "\n",
        "- a2+a3 == target --> nope\n",
        "\n",
        "- a2+a4 == target --> nope\n",
        "\n",
        "- a3+a4 == target --> Found\n",
        "\n",
        "looking at the index indicates we could use two pointers. \n",
        "\n",
        "- Target = a[p1] + desired_value_p2\n",
        "\n",
        "- desired_value_p2 = Target - a[p1]\n",
        "\n",
        "p2 will try to find numbers to the right of p1 and see if it == goal_p2\n"
      ],
      "metadata": {
        "id": "g5KSaHQUqjr7"
      }
    },
    {
      "cell_type": "code",
      "execution_count": 17,
      "metadata": {
        "id": "D7Qb6XKzwWkL"
      },
      "outputs": [],
      "source": [
        "def twoSum(nums, target):\n",
        "\n",
        "  length = len(nums)\n",
        "  for p1 in range(length):\n",
        "    desired_p2_value = target - nums[p1]\n",
        "    for p2 in range(p1+1,length):\n",
        "      if desired_p2_value == nums[p2]:\n",
        "        return [p1,p2]\n",
        "  return [];\n"
      ]
    },
    {
      "cell_type": "code",
      "source": [
        "def twoSum_v2(nums, target):\n",
        "  length = len(nums)\n",
        "  for p1 in range(length):\n",
        "    for p2 in range(p1+1,length):\n",
        "      if nums[p1]+nums[p2]==target:\n",
        "        return[p1,p2]\n",
        "  return [];\n"
      ],
      "metadata": {
        "id": "b1r1JnUx29O2"
      },
      "execution_count": 18,
      "outputs": []
    },
    {
      "cell_type": "code",
      "source": [
        "def twoSum_v3_special_case(nums, target):\n",
        "    p1 = 0\n",
        "    p2 = len(nums)-1        \n",
        "    while len(nums)>0:\n",
        "      if nums[p1]+nums[p2] == target:\n",
        "        return [p1,p2]\n",
        "      elif nums[p1]+nums[p2] < target:\n",
        "        p1+=1\n",
        "      else:\n",
        "        p2-=1"
      ],
      "metadata": {
        "id": "8tYuEoeX4TEx"
      },
      "execution_count": 19,
      "outputs": []
    },
    {
      "cell_type": "code",
      "source": [
        "def twoSum_v4(nums,target):\n",
        "  hashmap = {}\n",
        "  for p1, p1_value in enumerate(nums):\n",
        "    desired_p2_value = target - p1_value\n",
        "    if desired_p2_value in hashmap:\n",
        "      return [hashmap[desired_p2_value], p1]\n",
        "    hashmap[p1_value] = p1    "
      ],
      "metadata": {
        "id": "R1NIREwt6M6v"
      },
      "execution_count": 20,
      "outputs": []
    },
    {
      "cell_type": "markdown",
      "source": [
        "p1 = 0\n",
        "\n",
        "- goal_p2: 11-1 == 10\n",
        "\n",
        "- p2 = 1\n",
        "\n",
        "- 10 == 3,7,9,2 false\n",
        "\n",
        "p1 = 1\n",
        "\n",
        "- goal_p2: 11-3 == 8\n",
        "\n",
        "- p2 = 2\n",
        "\n",
        "- 8 == 7,9,2 false\n",
        "\n",
        "p1 = 2\n",
        "\n",
        "- goal_p2: 11-7 == 4\n",
        "\n",
        "- p2 = 3\n",
        "\n",
        "- 10 = 9,2 == false\n",
        "\n",
        "\n",
        "p1 = 3\n",
        "\n",
        "- goal_p2: 11-9 == 2\n",
        "\n",
        "- p2 = 4\n",
        "\n",
        "- 2 = 2 == true"
      ],
      "metadata": {
        "id": "vKTBuQIcyj-F"
      }
    },
    {
      "cell_type": "code",
      "source": [
        "nums = [1,3,7,9,2]\n",
        "target = 11\n",
        "\n",
        "twoSum(nums,target)"
      ],
      "metadata": {
        "colab": {
          "base_uri": "https://localhost:8080/"
        },
        "id": "qmlOvszQ0cYm",
        "outputId": "e4cc09d9-b2c4-49f1-89fb-3692f7a61e3b"
      },
      "execution_count": 21,
      "outputs": [
        {
          "output_type": "execute_result",
          "data": {
            "text/plain": [
              "[3, 4]"
            ]
          },
          "metadata": {},
          "execution_count": 21
        }
      ]
    },
    {
      "cell_type": "code",
      "source": [
        "twoSum_v3_special_case(nums,target)"
      ],
      "metadata": {
        "colab": {
          "base_uri": "https://localhost:8080/"
        },
        "id": "gMofruBE5uJo",
        "outputId": "4df395df-10df-4e01-eb22-04b14d491ec6"
      },
      "execution_count": 22,
      "outputs": [
        {
          "output_type": "execute_result",
          "data": {
            "text/plain": [
              "[3, 4]"
            ]
          },
          "metadata": {},
          "execution_count": 22
        }
      ]
    },
    {
      "cell_type": "code",
      "source": [
        "twoSum_v4(nums,target)"
      ],
      "metadata": {
        "colab": {
          "base_uri": "https://localhost:8080/"
        },
        "id": "AcNSzFjh8pcy",
        "outputId": "1be6a6ef-7461-4596-e5ca-0963b6e58830"
      },
      "execution_count": 23,
      "outputs": [
        {
          "output_type": "execute_result",
          "data": {
            "text/plain": [
              "[3, 4]"
            ]
          },
          "metadata": {},
          "execution_count": 23
        }
      ]
    }
  ]
}