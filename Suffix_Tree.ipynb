{
  "nbformat": 4,
  "nbformat_minor": 0,
  "metadata": {
    "colab": {
      "name": "Suffix_Tree.ipynb",
      "provenance": [],
      "collapsed_sections": [],
      "authorship_tag": "ABX9TyM6ZJ9mzO77RL0kvL9Zurp7",
      "include_colab_link": true
    },
    "kernelspec": {
      "name": "python3",
      "display_name": "Python 3"
    },
    "language_info": {
      "name": "python"
    }
  },
  "cells": [
    {
      "cell_type": "markdown",
      "metadata": {
        "id": "view-in-github",
        "colab_type": "text"
      },
      "source": [
        "<a href=\"https://colab.research.google.com/github/YvixMiHo/Algorithms_Data_Structures/blob/main/Suffix_Tree.ipynb\" target=\"_parent\"><img src=\"https://colab.research.google.com/assets/colab-badge.svg\" alt=\"Open In Colab\"/></a>"
      ]
    },
    {
      "cell_type": "markdown",
      "source": [
        "##Trie Implementation 1"
      ],
      "metadata": {
        "id": "sPc2JGnp7lW3"
      }
    },
    {
      "cell_type": "code",
      "execution_count": 1,
      "metadata": {
        "id": "kNpZSUU0om7l"
      },
      "outputs": [],
      "source": [
        "class Trie:\n",
        "  def __init__(self):\n",
        "    self.head = {}\n",
        "\n",
        "  def add(self, word):\n",
        "    current = self.head\n",
        "    for char in word:\n",
        "      if char not in current:\n",
        "        current[char] = {}\n",
        "      current = current[char]\n",
        "    current['*'] = True \n",
        "\n",
        "  def search(self, word):\n",
        "    current = self.head\n",
        "    for char in word:\n",
        "      if char not in current:\n",
        "        return False\n",
        "      current = current[char]\n",
        "    if '*' in current:\n",
        "      return True\n",
        "    else:\n",
        "      return False"
      ]
    },
    {
      "cell_type": "code",
      "source": [
        "dictionary = Trie()\n",
        "dictionary.add(\"hi\")\n",
        "dictionary.add(\"hello\")\n",
        "dictionary.search(\"hi\")"
      ],
      "metadata": {
        "colab": {
          "base_uri": "https://localhost:8080/"
        },
        "id": "XbzADfV7LqRY",
        "outputId": "c5c81c95-6203-45d1-8043-1489299b2c24"
      },
      "execution_count": 3,
      "outputs": [
        {
          "output_type": "execute_result",
          "data": {
            "text/plain": [
              "True"
            ]
          },
          "metadata": {},
          "execution_count": 3
        }
      ]
    },
    {
      "cell_type": "code",
      "source": [
        "dictionary.search(\"hel\")"
      ],
      "metadata": {
        "colab": {
          "base_uri": "https://localhost:8080/"
        },
        "id": "1TggU85RNjZp",
        "outputId": "64ee7cea-d9b2-48cd-891c-62aea249eb8a"
      },
      "execution_count": 4,
      "outputs": [
        {
          "output_type": "execute_result",
          "data": {
            "text/plain": [
              "False"
            ]
          },
          "metadata": {},
          "execution_count": 4
        }
      ]
    },
    {
      "cell_type": "markdown",
      "source": [
        "## Trie Implementation 2"
      ],
      "metadata": {
        "id": "E0tZsDmy7knT"
      }
    },
    {
      "cell_type": "code",
      "source": [
        "class TrieNode:\n",
        "  def __init__(self, char):\n",
        "    self.char = char\n",
        "    self.child = {}\n",
        "    self.is_end_of_word = False\n",
        "  \n",
        "class Trie2:\n",
        "  def __init__(self):\n",
        "    self.root = TrieNode(\"*\")\n",
        "  \n",
        "  def add_word(self, word):\n",
        "    current = self.root\n",
        "    for char in word:\n",
        "      if char not in current.child:\n",
        "        current.child[char] = TrieNode(char)\n",
        "      current = current.child[char]\n",
        "    current.is_end_of_word = True\n",
        "\n",
        "  def search(self, word):\n",
        "    if word == \"\":\n",
        "      return True\n",
        "    current = self.root\n",
        "    for char in word:\n",
        "      if char not in current.child:\n",
        "        return False\n",
        "      current = current.child[char]\n",
        "    return current.is_end_of_word\n",
        "\n"
      ],
      "metadata": {
        "id": "Hw7Wselq_q2h"
      },
      "execution_count": 6,
      "outputs": []
    },
    {
      "cell_type": "code",
      "source": [
        "dictionary = Trie2()\n",
        "\n",
        "words = [\"hi\", \"hello\"]\n",
        "for word in words:\n",
        "  dictionary.add_word(word)\n",
        "dictionary.search(\"hi\")"
      ],
      "metadata": {
        "colab": {
          "base_uri": "https://localhost:8080/"
        },
        "id": "hE4H4qMAWiR6",
        "outputId": "13b997a7-a135-49f1-e3cc-3036b608f586"
      },
      "execution_count": 7,
      "outputs": [
        {
          "output_type": "execute_result",
          "data": {
            "text/plain": [
              "True"
            ]
          },
          "metadata": {},
          "execution_count": 7
        }
      ]
    }
  ]
}