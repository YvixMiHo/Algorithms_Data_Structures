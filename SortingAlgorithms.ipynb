{
  "nbformat": 4,
  "nbformat_minor": 0,
  "metadata": {
    "colab": {
      "name": "SortingAlgorithms.ipynb",
      "provenance": [],
      "collapsed_sections": [],
      "authorship_tag": "ABX9TyP1KrgkkORVGfpmYQ0qxSDO",
      "include_colab_link": true
    },
    "kernelspec": {
      "name": "python3",
      "display_name": "Python 3"
    },
    "language_info": {
      "name": "python"
    },
    "gpuClass": "standard"
  },
  "cells": [
    {
      "cell_type": "markdown",
      "metadata": {
        "id": "view-in-github",
        "colab_type": "text"
      },
      "source": [
        "<a href=\"https://colab.research.google.com/github/YvixMiHo/Algorithms_Data_Structures/blob/main/SortingAlgorithms.ipynb\" target=\"_parent\"><img src=\"https://colab.research.google.com/assets/colab-badge.svg\" alt=\"Open In Colab\"/></a>"
      ]
    },
    {
      "cell_type": "markdown",
      "source": [
        "#Quick and merge sort Algorithms \n",
        "\n",
        "the purpose of this document is to explain how quick sort and merger sort work\n",
        "\n"
      ],
      "metadata": {
        "id": "DyGUV04PpESy"
      }
    },
    {
      "cell_type": "markdown",
      "source": [
        "###Merge Sort\n",
        "1. Split array in half\n",
        "\n",
        "2. Call merge sort on each half to sort them recursivley\n",
        "\n",
        "3. merge both the sorted halves into one sorted array\n",
        "\n",
        "![MergeSort.png](data:image/png;base64,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)"
      ],
      "metadata": {
        "id": "Fh2HcsHoN2zg"
      }
    },
    {
      "cell_type": "markdown",
      "source": [
        "\n",
        "### 1. Import dependencies"
      ],
      "metadata": {
        "id": "B8La2ELu0bRg"
      }
    },
    {
      "cell_type": "code",
      "source": [
        "import numpy as np"
      ],
      "metadata": {
        "id": "MOGNt9NM0ll9"
      },
      "execution_count": 1,
      "outputs": []
    },
    {
      "cell_type": "markdown",
      "source": [
        "### 2. Helper functions"
      ],
      "metadata": {
        "id": "3mkGGBxxzwAC"
      }
    },
    {
      "cell_type": "code",
      "source": [
        "def merge_sort(array):\n",
        "  if len(array) > 1:\n",
        "    mid_point = len(array)//2\n",
        "    left_array = array[:mid_point]\n",
        "    right_array = array[mid_point:]\n",
        "    \n",
        "    #recurse on left and right subsection\n",
        "    merge_sort(left_array)\n",
        "    merge_sort(right_array)\n",
        "\n",
        "    #merge\n",
        "    i = 0 # index left array\n",
        "    j = 0 # index right array\n",
        "    k = 0  # index mergered array\n",
        "\n",
        "    while i < len(left_array) and j < len(right_array):\n",
        "      if left_array[i] < right_array[j]:\n",
        "        array[k] = left_array[i]\n",
        "        i += 1\n",
        "      else: \n",
        "        array[k] = right_array[j]\n",
        "        j += 1\n",
        "      k += 1 # refactor merged index outside since common in if and else\n",
        "\n",
        "    # array right has been sorted but missing elements in left array\n",
        "    while i < len(left_array):\n",
        "      array[k] = left_array[i]\n",
        "      i += 1\n",
        "      k += 1\n",
        "\n",
        "    # array left has been sorted but missing elements in right array\n",
        "    while j < len(right_array):\n",
        "      array[k] = right_array[j]\n",
        "      j += 1\n",
        "      k += 1"
      ],
      "metadata": {
        "id": "8RkPd41gzlNz"
      },
      "execution_count": 2,
      "outputs": []
    },
    {
      "cell_type": "markdown",
      "source": [
        "### 3. Variable Declerations"
      ],
      "metadata": {
        "id": "f_CQHt8hz4w6"
      }
    },
    {
      "cell_type": "code",
      "source": [
        "data = np.random.randint(1e2,size = 5, dtype=np.uint8)\n",
        "data"
      ],
      "metadata": {
        "colab": {
          "base_uri": "https://localhost:8080/"
        },
        "id": "61sk895x0Lk-",
        "outputId": "3746d109-8e87-4df4-9f82-05560cca909c"
      },
      "execution_count": 3,
      "outputs": [
        {
          "output_type": "execute_result",
          "data": {
            "text/plain": [
              "array([90, 64, 78, 67,  4], dtype=uint8)"
            ]
          },
          "metadata": {},
          "execution_count": 3
        }
      ]
    },
    {
      "cell_type": "code",
      "source": [
        "data.sort(kind = 'mergesort')\n",
        "data"
      ],
      "metadata": {
        "colab": {
          "base_uri": "https://localhost:8080/"
        },
        "id": "Z30HJyLOJTnj",
        "outputId": "84776d62-11e9-4d22-9303-3ecbd0e829a5"
      },
      "execution_count": 4,
      "outputs": [
        {
          "output_type": "execute_result",
          "data": {
            "text/plain": [
              "array([ 4, 64, 67, 78, 90], dtype=uint8)"
            ]
          },
          "metadata": {},
          "execution_count": 4
        }
      ]
    },
    {
      "cell_type": "code",
      "source": [
        "data_array = [41,97,68,77,10]"
      ],
      "metadata": {
        "id": "SUfmTbwTI7tR"
      },
      "execution_count": 5,
      "outputs": []
    },
    {
      "cell_type": "markdown",
      "source": [
        "### 4 Process the data"
      ],
      "metadata": {
        "id": "KaDCVX7uzvLX"
      }
    },
    {
      "cell_type": "code",
      "source": [
        "merge_sort(data_array)\n",
        "data_array"
      ],
      "metadata": {
        "colab": {
          "base_uri": "https://localhost:8080/"
        },
        "id": "tiS0E-OJ0Bj2",
        "outputId": "195f0c84-b80d-4cc7-8250-c77ab364b0a6"
      },
      "execution_count": 6,
      "outputs": [
        {
          "output_type": "execute_result",
          "data": {
            "text/plain": [
              "[10, 41, 68, 77, 97]"
            ]
          },
          "metadata": {},
          "execution_count": 6
        }
      ]
    },
    {
      "cell_type": "markdown",
      "source": [
        "###Quick Sort\n",
        "this is a divide and conquer sub problem which results in splitting problem into smaller sub problems\n",
        "1. Choose pivot \n",
        "\n",
        "2. store elements less than pivot in left sub array anmd elements greater than pivot in right subaray\n",
        "\n",
        "3. call quick sort recursivley on each subarray\n",
        "\n",
        "![QuickSort.png](data:image/png;base64,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)"
      ],
      "metadata": {
        "id": "Q-0U5JDcKC4p"
      }
    },
    {
      "cell_type": "code",
      "source": [
        "def quicksort_R(array,left,right):\n",
        "  # does the subarray contain at least 2 elements\n",
        "  if left < right:\n",
        "    parition_pos = partition_R(array, left, right)\n",
        "    quicksort_R(array, left, parition_pos-1)\n",
        "    quicksort_R(array, parition_pos+1, right)"
      ],
      "metadata": {
        "id": "MKVpSXk6Yzz6"
      },
      "execution_count": 102,
      "outputs": []
    },
    {
      "cell_type": "code",
      "source": [
        "def quicksort_L(array,left,right):\n",
        "  # does the subarray contain at least 2 elements\n",
        "  if left < right:\n",
        "    parition_pos = partition_L(array, left, right)\n",
        "    quicksort_L(array, left, parition_pos)\n",
        "    quicksort_L(array, parition_pos+1, right)"
      ],
      "metadata": {
        "id": "8dhnDXzwpMRe"
      },
      "execution_count": 62,
      "outputs": []
    },
    {
      "cell_type": "code",
      "source": [
        "def partition_L(array,left,right):\n",
        "  i = left\n",
        "  j = right\n",
        "  pivot = array[left]\n",
        "\n",
        "  # i moves to right, j moves to left till i == j \n",
        "  while i < j:\n",
        "    while array[i] <= pivot:\n",
        "      i += 1\n",
        "    while array[j] > pivot:\n",
        "      j -=1\n",
        "    if i < j:\n",
        "      array[i],array[j] = array[j],array[i] \n",
        "  array[left],array[j] = array[j],array[left]\n",
        "  return j"
      ],
      "metadata": {
        "id": "TekfkuXDboz5"
      },
      "execution_count": 79,
      "outputs": []
    },
    {
      "cell_type": "code",
      "source": [
        "def partition_R(array,left,right):\n",
        "  i = left\n",
        "  j = right-1\n",
        "  pivot = array[right]\n",
        "\n",
        "  # i moves to right, j moves to left till i == j \n",
        "  while i < j:\n",
        "    # while i is not at the end of the array and element \n",
        "    # at index i is less than pivot \n",
        "    while i < right and array[i] < pivot:\n",
        "      i += 1\n",
        "    #\n",
        "    while j > left and array[j] >= pivot:\n",
        "      j -=1\n",
        "    #if elements have not corssed swap elements\n",
        "    if i < j:\n",
        "      array[i],array[j] = array[j],array[i]\n",
        "  #\n",
        "  if array[i] > pivot: \n",
        "    array[right],array[i] = array[i],array[right]\n",
        "  return i"
      ],
      "metadata": {
        "id": "z2nd9xVvpHeO"
      },
      "execution_count": 105,
      "outputs": []
    },
    {
      "cell_type": "code",
      "source": [
        "data_array_02 = [41,97,68,77,10]\n",
        "data_array_03 = data_array_02"
      ],
      "metadata": {
        "id": "ZR1_CAUknFbG"
      },
      "execution_count": 92,
      "outputs": []
    },
    {
      "cell_type": "code",
      "source": [
        "quicksort_L(data_array_02,0,len(data_array_02)-1)\n",
        "data_array_02"
      ],
      "metadata": {
        "colab": {
          "base_uri": "https://localhost:8080/"
        },
        "id": "tehSjk8CmuSR",
        "outputId": "6aab22d1-5917-4a42-ef0a-a8a2b66324b1"
      },
      "execution_count": 48,
      "outputs": [
        {
          "output_type": "execute_result",
          "data": {
            "text/plain": [
              "[10, 41, 68, 77, 97]"
            ]
          },
          "metadata": {},
          "execution_count": 48
        }
      ]
    },
    {
      "cell_type": "code",
      "source": [
        "quicksort_R(data_array_03,0,len(data_array_03)-1)\n",
        "data_array_03"
      ],
      "metadata": {
        "colab": {
          "base_uri": "https://localhost:8080/"
        },
        "id": "FU-jTtRCqdiS",
        "outputId": "23b52d7b-df78-45b9-f4cd-fe97cfc9ea04"
      },
      "execution_count": 106,
      "outputs": [
        {
          "output_type": "execute_result",
          "data": {
            "text/plain": [
              "[10, 41, 68, 77, 97]"
            ]
          },
          "metadata": {},
          "execution_count": 106
        }
      ]
    }
  ]
}