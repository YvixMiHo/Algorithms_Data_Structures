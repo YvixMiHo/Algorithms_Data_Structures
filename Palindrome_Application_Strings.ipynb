{
  "nbformat": 4,
  "nbformat_minor": 0,
  "metadata": {
    "colab": {
      "name": "Palindrome_Application_Strings.ipynb",
      "provenance": [],
      "collapsed_sections": [],
      "authorship_tag": "ABX9TyMBBhSD/lW4CWfnIsU7jZrS",
      "include_colab_link": true
    },
    "kernelspec": {
      "name": "python3",
      "display_name": "Python 3"
    },
    "language_info": {
      "name": "python"
    }
  },
  "cells": [
    {
      "cell_type": "markdown",
      "metadata": {
        "id": "view-in-github",
        "colab_type": "text"
      },
      "source": [
        "<a href=\"https://colab.research.google.com/github/YvixMiHo/Algorithms_Data_Structures/blob/main/Palindrome_Application_Strings.ipynb\" target=\"_parent\"><img src=\"https://colab.research.google.com/assets/colab-badge.svg\" alt=\"Open In Colab\"/></a>"
      ]
    },
    {
      "cell_type": "markdown",
      "source": [
        "What is a palindrome. it is a string that reads the same from forwards and backwards. example includes\n",
        "\n",
        "- \"aba\" \n",
        "- \"a\" \n",
        "- \"race car\" \n",
        "- \" \"\n",
        "- \"A man, a plan, a canal: Panama\"\n",
        "\n",
        "\n",
        "\n",
        "\n",
        "a c b c a\n",
        "i       j\n",
        "\n",
        "a c b c a\n",
        "  i   j\n",
        "\n",
        "\n",
        "a b a a b a\n",
        "i         j\n",
        "\n",
        "\n",
        "a b a a b a\n",
        "  i     j\n",
        "\n",
        "\n",
        "a b a a b a\n",
        "    i j  "
      ],
      "metadata": {
        "id": "4R7Y-0AFlz-P"
      }
    },
    {
      "cell_type": "markdown",
      "source": [
        ""
      ],
      "metadata": {
        "id": "_SoyUrvV9QUd"
      }
    },
    {
      "cell_type": "code",
      "source": [
        "import string"
      ],
      "metadata": {
        "id": "F1K-IfN7Mk8f"
      },
      "execution_count": 26,
      "outputs": []
    },
    {
      "cell_type": "code",
      "source": [
        "def timer(argument):\n",
        "  t_inital = time.perf_counter()\n",
        "  argument\n",
        "  t_final = time.perf_counter()\n",
        "  print(f\"time to execute {t_final - t_inital:0.9f} seconds\")\n"
      ],
      "metadata": {
        "id": "_Ykl5R3M2RvL"
      },
      "execution_count": 27,
      "outputs": []
    },
    {
      "cell_type": "code",
      "source": [
        "class Solution(object):\n",
        "    def isPalindrome(self, word):\n",
        "        \"\"\"\n",
        "        :type s: str\n",
        "        :rtype: bool\n",
        "        \"\"\"\n",
        "        #process the input\n",
        "        word=(\"\".join((word.lower()).split())).translate(str.maketrans('', '', string.punctuation))\n",
        "  \n",
        "        left_ptr = 0\n",
        "        right_ptr = len(word)-1\n",
        "  \n",
        "        while left_ptr < right_ptr:\n",
        "            if word[left_ptr] != word[right_ptr]:\n",
        "                return False\n",
        "            left_ptr  +=1\n",
        "            right_ptr -=1\n",
        "        return True"
      ],
      "metadata": {
        "id": "WBrif3aXi7wy"
      },
      "execution_count": 28,
      "outputs": []
    },
    {
      "cell_type": "code",
      "source": [
        "def isValidPalindrome(word):\n",
        "  \n",
        "  #process the input\n",
        "  word=(\"\".join((word.lower()).split())).translate(str.maketrans('', '', string.punctuation))\n",
        "  \n",
        "  left_ptr = 0\n",
        "  right_ptr = len(word)-1\n",
        "  \n",
        "  while left_ptr < right_ptr:\n",
        "    if word[left_ptr] != word[right_ptr]:\n",
        "      return False\n",
        "    left_ptr  +=1\n",
        "    right_ptr -=1\n",
        "  return True\n",
        "\n",
        "\n"
      ],
      "metadata": {
        "id": "mlWpVKFehFx_"
      },
      "execution_count": 29,
      "outputs": []
    },
    {
      "cell_type": "code",
      "source": [
        "S = \"aba\"\n",
        "S2 = \"a\"\n",
        "S3 = \"racecar\"\n",
        "S4 = \"abaaba\"\n",
        "S5 = \"helloworld\"\n",
        "S6 = \" \"\n",
        "S7 = \"A man, a plan, a canal: Panama\"\n",
        "S10 = \"amanaplanacanalpanama\"\n",
        "S8 = \"race a car\""
      ],
      "metadata": {
        "id": "fnIDBN6B1U8o"
      },
      "execution_count": 30,
      "outputs": []
    },
    {
      "cell_type": "code",
      "source": [
        "S10"
      ],
      "metadata": {
        "colab": {
          "base_uri": "https://localhost:8080/",
          "height": 36
        },
        "id": "wSsMuL73NlpI",
        "outputId": "999f02cd-b9b4-46db-9fb8-b4326d347199"
      },
      "execution_count": 31,
      "outputs": [
        {
          "output_type": "execute_result",
          "data": {
            "text/plain": [
              "'amanaplanacanalpanama'"
            ],
            "application/vnd.google.colaboratory.intrinsic+json": {
              "type": "string"
            }
          },
          "metadata": {},
          "execution_count": 31
        }
      ]
    },
    {
      "cell_type": "code",
      "source": [
        "solution = Solution()"
      ],
      "metadata": {
        "id": "Pat-ukTHjh6H"
      },
      "execution_count": 32,
      "outputs": []
    },
    {
      "cell_type": "code",
      "source": [
        "solution.isPalindrome(S)"
      ],
      "metadata": {
        "id": "qU7rc7kthl5Z",
        "colab": {
          "base_uri": "https://localhost:8080/"
        },
        "outputId": "d0c85f34-2053-4879-a707-07c9fa7bed02"
      },
      "execution_count": 33,
      "outputs": [
        {
          "output_type": "execute_result",
          "data": {
            "text/plain": [
              "True"
            ]
          },
          "metadata": {},
          "execution_count": 33
        }
      ]
    },
    {
      "cell_type": "code",
      "source": [
        "solution.isPalindrome(S2)"
      ],
      "metadata": {
        "id": "-N3KwS-qzYG1",
        "colab": {
          "base_uri": "https://localhost:8080/"
        },
        "outputId": "c0d464ce-bafa-46aa-9bdc-e01f0c3c1e8c"
      },
      "execution_count": 34,
      "outputs": [
        {
          "output_type": "execute_result",
          "data": {
            "text/plain": [
              "True"
            ]
          },
          "metadata": {},
          "execution_count": 34
        }
      ]
    },
    {
      "cell_type": "code",
      "source": [
        "solution.isPalindrome(S5)"
      ],
      "metadata": {
        "colab": {
          "base_uri": "https://localhost:8080/"
        },
        "id": "3VxuS0_FwYzI",
        "outputId": "8a3d7f63-4866-4ee3-e7c5-d47a7ff33c4d"
      },
      "execution_count": 35,
      "outputs": [
        {
          "output_type": "execute_result",
          "data": {
            "text/plain": [
              "False"
            ]
          },
          "metadata": {},
          "execution_count": 35
        }
      ]
    },
    {
      "cell_type": "code",
      "source": [
        "solution.isPalindrome(S4)"
      ],
      "metadata": {
        "colab": {
          "base_uri": "https://localhost:8080/"
        },
        "id": "Cx18KPIEJ3_m",
        "outputId": "fcc34ea7-b7f1-4c55-8ba6-70b502e30734"
      },
      "execution_count": 36,
      "outputs": [
        {
          "output_type": "execute_result",
          "data": {
            "text/plain": [
              "True"
            ]
          },
          "metadata": {},
          "execution_count": 36
        }
      ]
    },
    {
      "cell_type": "code",
      "source": [
        "solution.isPalindrome(S3)"
      ],
      "metadata": {
        "colab": {
          "base_uri": "https://localhost:8080/"
        },
        "id": "hDuCIJvLJ5GH",
        "outputId": "61f4a21b-c834-400a-c3fe-7e5b8208bf63"
      },
      "execution_count": 37,
      "outputs": [
        {
          "output_type": "execute_result",
          "data": {
            "text/plain": [
              "True"
            ]
          },
          "metadata": {},
          "execution_count": 37
        }
      ]
    },
    {
      "cell_type": "code",
      "source": [
        "solution.isPalindrome(S6)"
      ],
      "metadata": {
        "colab": {
          "base_uri": "https://localhost:8080/"
        },
        "id": "kIvEtu0UKTbW",
        "outputId": "446a9790-c2d3-4b6a-fd4c-698f0bed939a"
      },
      "execution_count": 38,
      "outputs": [
        {
          "output_type": "execute_result",
          "data": {
            "text/plain": [
              "True"
            ]
          },
          "metadata": {},
          "execution_count": 38
        }
      ]
    },
    {
      "cell_type": "code",
      "source": [
        "solution.isPalindrome(S7)"
      ],
      "metadata": {
        "colab": {
          "base_uri": "https://localhost:8080/"
        },
        "id": "HqLqxqXyM6Nd",
        "outputId": "1f89a5b1-4397-44b4-89ba-c20815357078"
      },
      "execution_count": 39,
      "outputs": [
        {
          "output_type": "execute_result",
          "data": {
            "text/plain": [
              "True"
            ]
          },
          "metadata": {},
          "execution_count": 39
        }
      ]
    },
    {
      "cell_type": "code",
      "source": [
        "solution.isPalindrome(S8)"
      ],
      "metadata": {
        "colab": {
          "base_uri": "https://localhost:8080/"
        },
        "id": "SMKObV-BND4R",
        "outputId": "1979fcdd-78c1-4213-dead-1af33cd5e33d"
      },
      "execution_count": 40,
      "outputs": [
        {
          "output_type": "execute_result",
          "data": {
            "text/plain": [
              "False"
            ]
          },
          "metadata": {},
          "execution_count": 40
        }
      ]
    }
  ]
}